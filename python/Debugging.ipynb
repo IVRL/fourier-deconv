{
 "cells": [
  {
   "cell_type": "code",
   "execution_count": null,
   "metadata": {},
   "outputs": [],
   "source": [
    "#Useful imports\n",
    "%matplotlib inline\n",
    "import numpy as np\n",
    "import matplotlib.pyplot as plt\n",
    "%reload_ext autoreload\n",
    "%autoreload 2\n",
    "from matplotlib import rc\n",
    "rc('text', usetex=True)"
   ]
  },
  {
   "cell_type": "code",
   "execution_count": null,
   "metadata": {},
   "outputs": [],
   "source": [
    "FOLDER = 'plots/'\n",
    "\n",
    "def full_frame(width=None, height=None):\n",
    "    ''' Nearly completely remove all borders from a plot. '''\n",
    "    import matplotlib as mpl\n",
    "    mpl.rcParams['savefig.pad_inches'] = 0\n",
    "    figsize = None if width is None else (width, height)\n",
    "    fig = plt.figure(figsize=figsize)\n",
    "    ax = plt.axes([0,0,1,1], frameon=False)\n",
    "    ax.get_xaxis().set_visible(False)\n",
    "    ax.get_yaxis().set_visible(False)\n",
    "    plt.autoscale(tight=True)\n",
    "    return fig, ax\n",
    "    \n",
    "def plot_matrix(A, saveas='', cmap='RdBu', vmin=None, vmax=None):\n",
    "    fig, ax = full_frame(A.shape[1], A.shape[0])\n",
    "    ax.matshow(A, cmap=cmap, vmin=vmin, vmax=vmax)\n",
    "    \n",
    "    if saveas != '':\n",
    "        plt.savefig(FOLDER + saveas)"
   ]
  },
  {
   "cell_type": "markdown",
   "metadata": {},
   "source": [
    "## Setup"
   ]
  },
  {
   "cell_type": "code",
   "execution_count": null,
   "metadata": {},
   "outputs": [],
   "source": [
    "kernel = np.array([[-1, -2], [-3, -4]])\n",
    "S = np.array([3, 4])\n",
    "np.random.seed(1)\n",
    "image = np.random.uniform(0, 1.0, size=S)\n",
    "image[0, 0] = 1.0\n",
    "image[-1, -1] = 0.0\n",
    "\n",
    "plot_matrix(image, '', 'gray')\n",
    "plot_matrix(kernel, '', vmax=0)"
   ]
  },
  {
   "cell_type": "markdown",
   "metadata": {},
   "source": [
    "## Original 2D convolution"
   ]
  },
  {
   "cell_type": "code",
   "execution_count": null,
   "metadata": {},
   "outputs": [],
   "source": [
    "from scipy.signal import convolve2d\n",
    "\n",
    "result_orig = convolve2d(image, kernel, mode='valid', boundary='symm')\n",
    "\n",
    "# make sure the min and max of matrix plots are always the same. \n",
    "vmin = np.min(result_orig)\n",
    "vmax = np.max(result_orig)\n",
    "plot_matrix(result_orig, 'k.eps', 'gray', vmin=vmin, vmax=vmax)"
   ]
  },
  {
   "cell_type": "markdown",
   "metadata": {},
   "source": [
    "## Vectorized 2D convolution"
   ]
  },
  {
   "cell_type": "code",
   "execution_count": null,
   "metadata": {
    "scrolled": false
   },
   "outputs": [],
   "source": [
    "from scipy.linalg import circulant\n",
    "\n",
    "## Setup\n",
    "n = S[0]*S[1]\n",
    "\n",
    "kernel_vect = np.zeros(S)\n",
    "kernel_vect[:kernel.shape[0], :kernel.shape[1]] = kernel[::-1, ::-1]\n",
    "kernel_vect.resize([1, n])\n",
    "plot_matrix(kernel_vect, '', vmax=0)\n",
    "\n",
    "# Because of the convention of scipy's circulant implementation we need to undo their flipping, thus the transpose. \n",
    "kernel_matrix = np.zeros((n, n))\n",
    "\n",
    "kernel_matrix = circulant(kernel_vect).T\n",
    "plot_matrix(kernel_matrix, 'k_matrix.eps', vmax=0)\n",
    "\n",
    "image_vect = np.reshape(image, [-1, 1])\n",
    "plot_matrix(image_vect, '', 'gray', vmin=vmin, vmax=vmax)\n",
    "plot_matrix(image_vect.T, '', 'gray', vmin=vmin, vmax=vmax)"
   ]
  },
  {
   "cell_type": "code",
   "execution_count": null,
   "metadata": {},
   "outputs": [],
   "source": [
    "## Convolution\n",
    "\n",
    "result_vect_vect = kernel_matrix.dot(image_vect)\n",
    "plot_matrix(result_vect_vect, '', 'gray')\n",
    "\n",
    "result_vect = result_vect_vect.reshape(S)\n",
    "plot_matrix(result_vect, '', 'gray', vmin=vmin, vmax=vmax)\n",
    "\n",
    "assert np.allclose(result_vect[:2, :3], result_orig)"
   ]
  },
  {
   "cell_type": "markdown",
   "metadata": {},
   "source": [
    "## Vectorized Fourier-domain convolution"
   ]
  },
  {
   "cell_type": "code",
   "execution_count": null,
   "metadata": {},
   "outputs": [],
   "source": [
    "## first, we find out what kernel has to be convolved \n",
    "## with the vectorized 1D input image, to yield the vectorized\n",
    "## 1D output image. \n",
    "# now given the kernel we should be able to move to fourier domain. \n",
    "test_kernel = np.zeros_like(image)\n",
    "test_kernel[:kernel.shape[0], :kernel.shape[1]] = kernel\n",
    "test_kernel.resize([1, n])\n",
    "plot_matrix(test_kernel)\n",
    "\n",
    "\n",
    "# this...\n",
    "result_test_vect = np.convolve(image_vect.flatten(), test_kernel.flatten(), mode='full')\n",
    "result_reduced = result_test_vect[int(np.floor(n/2))-1: int(np.floor(n/2))-1+n]\n",
    "# ... is equivalent to:\n",
    "#result_reduced = np.convolve(image_vect.flatten(), test_kernel.flatten(), mode='same')\n",
    "\n",
    "result_test = result_reduced.reshape(S)\n",
    "\n",
    "assert np.allclose(result_test[:2, :3], result_orig)"
   ]
  },
  {
   "cell_type": "code",
   "execution_count": null,
   "metadata": {},
   "outputs": [],
   "source": [
    "fft_kernel_vect = np.fft.fft(test_kernel).reshape((-1, 1))\n",
    "fft_image_vect = np.fft.fft(image_vect).reshape((-1, 1))\n",
    "\n",
    "## START DEBUGGING\n",
    "# test that fft/ifft is working correctly \n",
    "assert np.allclose(np.fft.ifft(np.fft.fft(test_kernel)), test_kernel)\n",
    "\n",
    "# test that f(a*a) = f(a).f(a)\n",
    "test = np.convolve(test_kernel.flatten(), test_kernel.flatten(), 'full')\n",
    "test1 = np.fft.fft(test[:n])\n",
    "test2 = np.multiply(np.fft.fft(test_kernel), np.fft.fft(test_kernel))\n",
    "assert np.allclose(test1, test2)\n",
    "\n",
    "# test that f(a*b) = f(a).f(b)\n",
    "# TODO: why is this stuff not working? Do we need zero padding? \n",
    "test = np.convolve(test_kernel.flatten(), image_vect.flatten(), 'full')\n",
    "test1 = np.fft.fft(test[:n].flatten())\n",
    "test2 = np.multiply(np.fft.fftshift(np.fft.fft(test_kernel.flatten())), np.fft.fftshift(np.fft.fft(image_vect.flatten())))\n",
    "if not np.allclose(test1, test2):\n",
    "    print('1, 2 not equal: \\n{}, \\n{}'.format(test1, test2))\n",
    "\n",
    "# above should be equal to fourier of result. \n",
    "test3 = np.fft.fftshift(np.fft.fft(result_vect_vect.flatten()))\n",
    "if not np.allclose(test1, test3):\n",
    "    print('1, 3 not equal: \\n{}, \\n{}'.format(test1, test3))\n",
    "if not np.allclose(test2, test3):\n",
    "    print('2, 3 not equal: \\n{}, \\n{}'.format(test1, test3))\n",
    "    \n",
    "##  DONE DEBUGGING\n",
    "\n",
    "fft_result_fft_vect = np.multiply(fft_kernel_vect, fft_image_vect)\n",
    "\n",
    "result_fft_vect = np.fft.ifft(fft_result_fft_vect)\n",
    "result_fft = np.reshape(np.real(result_fft_vect), S)\n",
    "\n",
    "plot_matrix(result_fft, '', 'gray', vmin=vmin, vmax=vmax)"
   ]
  },
  {
   "cell_type": "code",
   "execution_count": null,
   "metadata": {},
   "outputs": [],
   "source": [
    "# Create circulant matrix\n",
    "kernel_fft = np.fft.fftshift(np.fft.fft2(kernel_matrix))\n",
    "kernel_diagonal = np.real(kernel_fft)\n",
    "plot_matrix(np.real(kernel_fft), '')\n",
    "plot_matrix(np.imag(kernel_fft), '')"
   ]
  },
  {
   "cell_type": "markdown",
   "metadata": {},
   "source": [
    "## Practical implementation"
   ]
  },
  {
   "cell_type": "code",
   "execution_count": null,
   "metadata": {},
   "outputs": [],
   "source": [
    "## Setup\n",
    "\n",
    "from psf2otf import psf2otf\n",
    "plot_matrix(kernel[::-1, ::-1])\n",
    "print(kernel)\n",
    "test_psf2otf = psf2otf(kernel[::-1], S)\n",
    "print(test_psf2otf)\n",
    "abs_psf2otf = np.real(test_psf2otf)\n",
    "print(abs_psf2otf)\n",
    "plot_matrix(abs_psf2otf, '')"
   ]
  },
  {
   "cell_type": "code",
   "execution_count": null,
   "metadata": {},
   "outputs": [],
   "source": [
    "otf_kernel = psf2otf(kernel, S)\n",
    "\n",
    "fft_image = np.fft.fft2(image)\n",
    "\n",
    "fft_result_psf2otf = np.multiply(otf_kernel, fft_image)\n",
    "\n",
    "result_psf2otf = np.fft.ifft2(fft_result_psf2otf)\n",
    "\n",
    "plot_matrix(np.real(result_psf2otf), '', 'gray', vmin=vmin, vmax=vmax)\n",
    "\n",
    "assert np.allclose(result_psf2otf[:2, :3], result_orig)"
   ]
  },
  {
   "cell_type": "code",
   "execution_count": null,
   "metadata": {},
   "outputs": [],
   "source": [
    "from psf2otf import zero_pad\n",
    "\n",
    "#psf = np.array([[-1, 1]]) \n",
    "print(kernel)\n",
    "psf = np.array([[-1, -2], [-3, -4]])\n",
    "print('psf input', psf)\n",
    "shape = np.array([3, 4])\n",
    "\n",
    "inshape = psf.shape\n",
    "# Pad the PSF to outsize\n",
    "psf = zero_pad(psf, shape, position='corner')\n",
    "plot_matrix(psf)\n",
    "print(psf)\n",
    "\n",
    "# Circularly shift OTF so that the 'center' of the PSF is\n",
    "# [0,0] element of the array\n",
    "for axis, axis_size in enumerate(inshape):\n",
    "    psf = np.roll(psf, -int(axis_size / 2), axis=axis)\n",
    "\n",
    "plot_matrix(psf)\n",
    "\n",
    "# Compute the OTF\n",
    "otf = np.fft.fft2(psf)\n",
    "plot_matrix(np.real(otf))\n",
    "plot_matrix(np.imag(otf))\n",
    "plot_matrix(np.abs(otf))\n",
    "\n",
    "# Estimate the rough number of operations involved in the FFT\n",
    "# and discard the PSF imaginary part if within roundoff error\n",
    "# roundoff error  = machine epsilon = sys.float_info.epsilon\n",
    "# or np.finfo().eps\n",
    "n_ops = np.sum(psf.size * np.log2(psf.shape))\n",
    "otf = np.real_if_close(otf, tol=n_ops)"
   ]
  },
  {
   "cell_type": "code",
   "execution_count": null,
   "metadata": {},
   "outputs": [],
   "source": [
    "## Assumption: otf is simply the fft2(psf). Note otf gets multiplied pointwise with fft2(image), \n",
    "## and then result = ifft2(otf .* fft2(image)).\n",
    "## It would make sense that psf convolved with image gives exactly result.\n",
    "\n",
    "fft_image = np.fft.fftshift(image)\n",
    "output = convolve2d(psf, image, mode='same', boundary='symm')\n",
    "\n",
    "plot_matrix(output, '', 'gray', vmin=vmin, vmax=vmax)\n",
    "\n",
    "print(np.divide(output[1:, :3], result_orig))\n",
    "assert np.allclose(output[1:, :3], result_orig)"
   ]
  }
 ],
 "metadata": {
  "kernelspec": {
   "display_name": "Python 3",
   "language": "python",
   "name": "python3"
  },
  "language_info": {
   "codemirror_mode": {
    "name": "ipython",
    "version": 3
   },
   "file_extension": ".py",
   "mimetype": "text/x-python",
   "name": "python",
   "nbconvert_exporter": "python",
   "pygments_lexer": "ipython3",
   "version": "3.5.2"
  }
 },
 "nbformat": 4,
 "nbformat_minor": 2
}
