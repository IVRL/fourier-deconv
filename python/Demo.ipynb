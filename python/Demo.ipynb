{
 "cells": [
  {
   "cell_type": "code",
   "execution_count": null,
   "metadata": {},
   "outputs": [],
   "source": [
    "#Useful imports\n",
    "%matplotlib inline\n",
    "import numpy as np\n",
    "import matplotlib.pyplot as plt\n",
    "%reload_ext autoreload\n",
    "%autoreload 2\n",
    "from matplotlib import rc\n",
    "rc('text', usetex=True)"
   ]
  },
  {
   "cell_type": "code",
   "execution_count": null,
   "metadata": {},
   "outputs": [],
   "source": [
    "def matshow(A, title=''):\n",
    "    plt.matshow(A)\n",
    "    plt.axis('off')\n",
    "    plt.title(title)"
   ]
  },
  {
   "cell_type": "markdown",
   "metadata": {},
   "source": [
    "## Conventional Approach with circulant matrix\n",
    "\n",
    "One can write the 2d convolution as a matrix product of a circulant matrix, formed by the convolution kernel, and the vectorized input matrix (e.g. image)."
   ]
  },
  {
   "cell_type": "code",
   "execution_count": null,
   "metadata": {},
   "outputs": [],
   "source": [
    "k = np.array([-1, 1]) # convolution kernel\n",
    "S = np.array([3, 3]) # image size\n",
    "\n",
    "# create Image with random entries between 0 and 1\n",
    "I_i = np.random.random(size = S) \n",
    "\n",
    "# create zero-padded and mirrored version of k.\n",
    "k_prime = np.zeros(np.product(S))\n",
    "k_prime[:len(k)] = k[::-1]\n",
    "print(I_i)\n",
    "print(k_prime)\n",
    "\n",
    "matshow(I_i, '$I_i$')"
   ]
  },
  {
   "cell_type": "code",
   "execution_count": null,
   "metadata": {},
   "outputs": [],
   "source": [
    "from scipy.linalg import circulant\n",
    "I_i_vect = np.reshape(I_i, [-1, 1])\n",
    "circ_k_prime = circulant(k_prime).T\n",
    "matshow(circ_k_prime, \"$circ(k')$\")\n",
    "\n",
    "I_nv_vert = circ_k_prime.dot(I_i_vect)\n",
    "I_nv = I_nv_vert.reshape(S)\n",
    "matshow(I_nv, '$I_{nv}$')"
   ]
  },
  {
   "cell_type": "code",
   "execution_count": null,
   "metadata": {
    "scrolled": true
   },
   "outputs": [],
   "source": [
    "from scipy.signal import convolve2d\n",
    "I_conv = convolve2d(I_i, k.reshape(1,2), mode='valid')\n",
    "matshow(I_conv, '$I_{nv}$')\n",
    "\n",
    "assert np.allclose(I_conv, I_nv[:, :2])"
   ]
  },
  {
   "cell_type": "markdown",
   "metadata": {},
   "source": [
    "## Fourier Approach \n",
    "\n",
    "Since the convolution matrix is circulant, it is diagonal in Fourier domain. We can use this to solve the system more efficiently "
   ]
  },
  {
   "cell_type": "code",
   "execution_count": null,
   "metadata": {},
   "outputs": [],
   "source": [
    "# the following two functions are taken from \n",
    "# https://github.com/aboucaud/pypher\n",
    "def zero_pad(image, shape, position='corner'):\n",
    "    \"\"\"\n",
    "    Extends image to a certain size with zeros\n",
    "    Parameters\n",
    "    ----------\n",
    "    image: real 2d `numpy.ndarray`\n",
    "        Input image\n",
    "    shape: tuple of int\n",
    "        Desired output shape of the image\n",
    "    position : str, optional\n",
    "        The position of the input image in the output one:\n",
    "            * 'corner'\n",
    "                top-left corner (default)\n",
    "            * 'center'\n",
    "                centered\n",
    "    Returns\n",
    "    -------\n",
    "    padded_img: real `numpy.ndarray`\n",
    "        The zero-padded image\n",
    "    \"\"\"\n",
    "    shape = np.asarray(shape, dtype=int)\n",
    "    imshape = np.asarray(image.shape, dtype=int)\n",
    "\n",
    "    if np.alltrue(imshape == shape):\n",
    "        return image\n",
    "\n",
    "    if np.any(shape <= 0):\n",
    "        raise ValueError(\"ZERO_PAD: null or negative shape given\")\n",
    "\n",
    "    dshape = shape - imshape\n",
    "    if np.any(dshape < 0):\n",
    "        raise ValueError(\"ZERO_PAD: target size smaller than source one\")\n",
    "\n",
    "    pad_img = np.zeros(shape, dtype=image.dtype)\n",
    "\n",
    "    idx, idy = np.indices(imshape)\n",
    "\n",
    "    if position == 'center':\n",
    "        if np.any(dshape % 2 != 0):\n",
    "            raise ValueError(\"ZERO_PAD: source and target shapes \"\n",
    "                             \"have different parity.\")\n",
    "        offx, offy = dshape // 2\n",
    "    else:\n",
    "        offx, offy = (0, 0)\n",
    "\n",
    "    pad_img[idx + offx, idy + offy] = image\n",
    "    return pad_img\n",
    "\n",
    "def psf2otf(psf, shape):\n",
    "    \"\"\"\n",
    "    Convert point-spread function to optical transfer function.\n",
    "    Compute the Fast Fourier Transform (FFT) of the point-spread\n",
    "    function (PSF) array and creates the optical transfer function (OTF)\n",
    "    array that is not influenced by the PSF off-centering.\n",
    "    By default, the OTF array is the same size as the PSF array.\n",
    "    To ensure that the OTF is not altered due to PSF off-centering, PSF2OTF\n",
    "    post-pads the PSF array (down or to the right) with zeros to match\n",
    "    dimensions specified in OUTSIZE, then circularly shifts the values of\n",
    "    the PSF array up (or to the left) until the central pixel reaches (1,1)\n",
    "    position.\n",
    "    Parameters\n",
    "    ----------\n",
    "    psf : `numpy.ndarray`\n",
    "        PSF array\n",
    "    shape : int\n",
    "        Output shape of the OTF array\n",
    "    Returns\n",
    "    -------\n",
    "    otf : `numpy.ndarray`\n",
    "        OTF array\n",
    "    Notes\n",
    "    -----\n",
    "    Adapted from MATLAB psf2otf function\n",
    "    \"\"\"\n",
    "    if np.all(psf == 0):\n",
    "        return np.zeros_like(psf)\n",
    "\n",
    "    inshape = psf.shape\n",
    "    # Pad the PSF to outsize\n",
    "    psf = zero_pad(psf, shape, position='corner')\n",
    "\n",
    "    # Circularly shift OTF so that the 'center' of the PSF is\n",
    "    # [0,0] element of the array\n",
    "    for axis, axis_size in enumerate(inshape):\n",
    "        psf = np.roll(psf, -int(axis_size / 2), axis=axis)\n",
    "\n",
    "    # Compute the OTF\n",
    "    otf = np.fft.fft2(psf)\n",
    "\n",
    "    # Estimate the rough number of operations involved in the FFT\n",
    "    # and discard the PSF imaginary part if within roundoff error\n",
    "    # roundoff error  = machine epsilon = sys.float_info.epsilon\n",
    "    # or np.finfo().eps\n",
    "    n_ops = np.sum(psf.size * np.log2(psf.shape))\n",
    "    otf = np.real_if_close(otf, tol=n_ops)\n",
    "    return otf"
   ]
  },
  {
   "cell_type": "code",
   "execution_count": null,
   "metadata": {},
   "outputs": [],
   "source": [
    "# TODO: for this implementation we don't need to mirror k! \n",
    "# we should understand why MATLAB's psf2otf does need mirroring...\n",
    "otf = psf2otf(k[::1].reshape(1,2), S)\n",
    "fft_i = np.fft.fft2(I_i)\n",
    "fft_nv = np.fft.fft2(I_nv)\n",
    "\n",
    "# TODO: is this close enough? \n",
    "print(fft_nv - np.multiply(otf, fft_i))\n",
    "#assert np.allclose(fft_nv, )\n"
   ]
  },
  {
   "cell_type": "code",
   "execution_count": null,
   "metadata": {},
   "outputs": [],
   "source": [
    "print(otf)\n",
    "print(fft_i)\n",
    "I_i_recovered = np.fft.ifft2(np.divide(fft_nv, otf, where=otf>0))\n",
    "print(I_i_recovered)\n",
    "matshow(np.real(I_i_recovered))\n",
    "matshow(I_i)"
   ]
  },
  {
   "cell_type": "code",
   "execution_count": null,
   "metadata": {},
   "outputs": [],
   "source": []
  }
 ],
 "metadata": {
  "kernelspec": {
   "display_name": "Python 3",
   "language": "python",
   "name": "python3"
  },
  "language_info": {
   "codemirror_mode": {
    "name": "ipython",
    "version": 3
   },
   "file_extension": ".py",
   "mimetype": "text/x-python",
   "name": "python",
   "nbconvert_exporter": "python",
   "pygments_lexer": "ipython3",
   "version": "3.5.2"
  }
 },
 "nbformat": 4,
 "nbformat_minor": 2
}
