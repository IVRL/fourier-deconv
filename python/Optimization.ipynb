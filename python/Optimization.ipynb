{
 "cells": [
  {
   "cell_type": "markdown",
   "metadata": {},
   "source": [
    "# Optimization in Fourier domain\n",
    "\n",
    "In section *A* we illustrate the 2D convolution with both the matrix\n",
    "multiplication setup and in the Fourier domain\n",
    "\n",
    "In section *B* we illustrate convex optimization solutions\n",
    "The example is a guided non-blind deblurring"
   ]
  },
  {
   "cell_type": "code",
   "execution_count": null,
   "metadata": {
    "scrolled": false
   },
   "outputs": [],
   "source": [
    "#Useful imports\n",
    "%matplotlib inline\n",
    "import numpy as np\n",
    "import matplotlib.pyplot as plt\n",
    "%reload_ext autoreload\n",
    "%autoreload 2\n",
    "from matplotlib import rc\n",
    "\n",
    "rc('text', usetex=True)\n",
    "font = {'family' : 'DejaVu Sans',\n",
    "        'size'   : 20.0}\n",
    "rc('font', **font)  # pass in the font dict as kwargs"
   ]
  },
  {
   "cell_type": "markdown",
   "metadata": {},
   "source": [
    "## A - 2D convolution"
   ]
  },
  {
   "cell_type": "code",
   "execution_count": null,
   "metadata": {
    "scrolled": false
   },
   "outputs": [],
   "source": [
    "s = 4\n",
    "\n",
    "# Matlab output of \"magic(4)\" \n",
    "N = np.array(\n",
    "    [[16,    2,     3,   13],\n",
    "    [5 ,   11 ,   10 ,    8],\n",
    "    [9 ,    7 ,    6 ,   12],\n",
    "    [4 ,   14 ,   15 ,    1]])\n",
    "\n",
    "k = np.array([-1, 1]) # convolution kernel\n",
    "S = np.array([s, s])"
   ]
  },
  {
   "cell_type": "markdown",
   "metadata": {},
   "source": [
    "### 1. Standard convolution"
   ]
  },
  {
   "cell_type": "code",
   "execution_count": null,
   "metadata": {
    "scrolled": false
   },
   "outputs": [],
   "source": [
    "from scipy.signal import convolve2d\n",
    "k_2D = k[::-1].reshape(1, -1)\n",
    "Rconv = convolve2d(N, k_2D, mode='valid')\n",
    "print('Rconv = \\n', Rconv)"
   ]
  },
  {
   "cell_type": "markdown",
   "metadata": {},
   "source": [
    "### 2. Matrix multiplication\n",
    "\n",
    "One can write the 2d convolution as a matrix product of a circulant matrix, formed by the convolution kernel, and the vectorized input matrix (e.g. image)."
   ]
  },
  {
   "cell_type": "code",
   "execution_count": null,
   "metadata": {
    "scrolled": false
   },
   "outputs": [],
   "source": [
    "from scipy.linalg import circulant\n",
    "# create zero-padded and mirrored version of k.\n",
    "k_prime = np.zeros(np.product(S))\n",
    "k_prime[:len(k)] = k\n",
    "\n",
    "n = np.reshape(N, [-1, 1])\n",
    "K = circulant(k_prime).T\n",
    "#matshow(K, \"$circ(k')$\")\n",
    "\n",
    "Rmult_vert = K.dot(n)\n",
    "Rmult = Rmult_vert.reshape(S)\n",
    "print('Rmult = \\n', Rmult)"
   ]
  },
  {
   "cell_type": "markdown",
   "metadata": {},
   "source": [
    "### 3. Fourier Approach \n",
    "\n",
    "Since the convolution matrix is circulant, it is diagonal in Fourier domain. We can use this to solve the system more efficiently "
   ]
  },
  {
   "cell_type": "code",
   "execution_count": null,
   "metadata": {
    "scrolled": false
   },
   "outputs": [],
   "source": [
    "from psf2otf import psf2otf\n",
    "\n",
    "Kf = psf2otf(k[::-1].reshape(1,2), S)\n",
    "Nf = np.fft.fft2(N)\n",
    "\n",
    "Rf = np.multiply(Kf, Nf)\n",
    "Rfourier = np.real(np.fft.ifft2(Rf))\n",
    "\n",
    "print('Rfourier = \\n', Rfourier)"
   ]
  },
  {
   "cell_type": "markdown",
   "metadata": {},
   "source": [
    "## B - Convex optimization"
   ]
  },
  {
   "cell_type": "code",
   "execution_count": null,
   "metadata": {
    "scrolled": true
   },
   "outputs": [],
   "source": [
    "# Read the NIR image to be deblurred, and the RGB guide\n",
    "N_b = plt.imread('../input/nir_blurry.tiff');\n",
    "RGB = plt.imread('../input/rgb.tiff');\n",
    "\n",
    "# For simplicity we only use the color luminance\n",
    "Y = np.mean(RGB,axis=2);\n",
    "# Rescale\n",
    "Y = Y.astype(np.float)/np.max(Y);\n",
    "N_b = N_b.astype(np.float)/np.max(N_b);\n",
    "\n",
    "f = plt.figure()\n",
    "f.set_size_inches(20, 10)\n",
    "plt.subplot(1, 2, 1)\n",
    "plt.imshow(N_b)\n",
    "plt.title('Out-of-focus NIR image');\n",
    "plt.subplot(1, 2, 2)\n",
    "plt.imshow(RGB)\n",
    "plt.title('Color guide');\n",
    "plt.show()"
   ]
  },
  {
   "cell_type": "code",
   "execution_count": null,
   "metadata": {
    "scrolled": true
   },
   "outputs": [],
   "source": [
    "from scipy.signal import convolve2d\n",
    "from scipy.signal import gaussian\n",
    "from math import ceil\n",
    "from time import time\n",
    "\n",
    "\n",
    "# We run a blur estimation algorithm, with the strong assumption of a\n",
    "# constant blur across the image, and that the blur is Gaussian\n",
    "# We obtain an estimate of sigma = 0.394\n",
    "#### blur kernel ####\n",
    "\n",
    "sigma = 0.394;\n",
    "bsize = ceil(2*3*sigma+1)\n",
    "b_one = gaussian(bsize, sigma, sym=True)\n",
    "b = np.outer(b_one, b_one)\n",
    "\n",
    "# make sure all elements sum up to 1 (like in matlabs fspecial('Gaussian') output)\n",
    "b = b/np.sum(b)\n",
    "\n",
    "lamda = 1.0;\n",
    "eps = 2.2204e-16 # like in MATLAB\n",
    "\n",
    "#### gradient kernels ####\n",
    "f1 = np.array([-1, 1]).reshape([1, -1]);\n",
    "f2 = f1.T;\n",
    "\n",
    "#### color guides ####\n",
    "\n",
    "y1 = convolve2d(Y, f1, 'same');\n",
    "y2 = convolve2d(Y, f2, 'same');\n",
    "\n",
    "# Fourier domain optimization solution:\n",
    "\n",
    "start_time = time()\n",
    "\n",
    "\n",
    "f1F = psf2otf(f1, Y.shape);\n",
    "f2F = psf2otf(f2, Y.shape);\n",
    "\n",
    "y1F = psf2otf(y1, Y.shape);\n",
    "y2F = psf2otf(y2, Y.shape);\n",
    "\n",
    "bF   = psf2otf(b, Y.shape);\n",
    "N_bF = psf2otf(N_b, Y.shape);\n",
    "\n",
    "# EQ (15)\n",
    "I_x = np.multiply(np.conj(f1F),y1F) +  np.multiply(np.conj(f2F), y2F) + np.multiply(np.conj(bF), N_bF)\n",
    "C  = lamda * (np.abs(f1F)**2 + np.abs(f2F)**2 + np.abs(bF)**2) + eps\n",
    "\n",
    "NF = np.divide(I_x, C);\n",
    "N = np.abs(np.fft.fftshift(np.fft.ifft2(NF)));\n",
    "\n",
    "end_time = time()\n",
    "timeTotal = end_time - start_time\n",
    "\n",
    "print('Done with optimization after {:2.2f}s'.format(timeTotal))"
   ]
  },
  {
   "cell_type": "code",
   "execution_count": null,
   "metadata": {
    "scrolled": false
   },
   "outputs": [],
   "source": [
    "# Comparing results\n",
    "\n",
    "import scipy\n",
    "\n",
    "def sh_computation(image):\n",
    "\n",
    "    # it is assumed that the image is gray-scale.\n",
    "    \n",
    "    # blurring the image in both directions \n",
    "    #Hv = fspecial('Gaussian',[1, 2*3*1+1],1)\n",
    "    Bver = scipy.ndimage.gaussian_filter(image, [1, 0])\n",
    "    Bhor = scipy.ndimage.gaussian_filter(image, [0, 1])\n",
    "    #Bver = imfilter(image, Hv, 'symmetric');                        ]\n",
    "\n",
    "    # computing the edges of the original image and its blurred version in both\n",
    "    # directions\n",
    "    D_Fver = np.abs(np.gradient(image, axis=0)); \n",
    "    D_Fhor = np.abs(np.gradient(image, axis=1));\n",
    "    D_Bver = np.abs(np.gradient(Bver, axis=0)); \n",
    "    D_Bhor = np.abs(np.gradient(Bhor, axis=1));\n",
    "\n",
    "    Vver = D_Fver - D_Bver; \n",
    "    Vver[Vver < 0]= 0;\n",
    "    Vhor = D_Fhor - D_Bhor; \n",
    "    Vhor[Vhor < 0]= 0;\n",
    "\n",
    "    s_Fver = np.sum(D_Fver);\n",
    "    s_Fhor = np.sum(D_Fhor);\n",
    "    s_Vver = np.sum(Vver);\n",
    "    s_Vhor = np.sum(Vhor);\n",
    "\n",
    "    b_Fver = (s_Fver - s_Vver) / s_Fver;\n",
    "    b_Fhor = (s_Fhor - s_Vhor) / s_Fhor;\n",
    "\n",
    "    blur = max(b_Fver,b_Fhor);\n",
    "\n",
    "    sharpness = 1 - blur;\n",
    "    return sharpness\n",
    "\n",
    "print(sh_computation(N_b), sh_computation(N))\n",
    "\n",
    "fig = plt.figure()\n",
    "fig.set_size_inches(20, 10)\n",
    "plt.subplot(1,2,1)\n",
    "plt.imshow(N_b, 'gray')\n",
    "plt.title('Out-of-focus NIR image')\n",
    "plt.subplot(1,2,2)\n",
    "plt.imshow(N, 'gray')\n",
    "plt.title('Deblurred NIR image')\n",
    "\n",
    "fig = plt.figure()\n",
    "fig.set_size_inches(20, 10)\n",
    "plt.subplot(1,2,1)\n",
    "plt.imshow(N_b[500:900, 650:1200], 'gray')\n",
    "plt.title('Out-of-focus CROP');\n",
    "\n",
    "plt.subplot(1,2,2)\n",
    "plt.imshow(N[500:900, 650:1200], 'gray')\n",
    "plt.title('Deblurred CROP');"
   ]
  },
  {
   "cell_type": "code",
   "execution_count": null,
   "metadata": {
    "scrolled": false
   },
   "outputs": [],
   "source": []
  },
  {
   "cell_type": "code",
   "execution_count": null,
   "metadata": {},
   "outputs": [],
   "source": []
  }
 ],
 "metadata": {
  "kernelspec": {
   "display_name": "Python 3",
   "language": "python",
   "name": "python3"
  },
  "language_info": {
   "codemirror_mode": {
    "name": "ipython",
    "version": 3
   },
   "file_extension": ".py",
   "mimetype": "text/x-python",
   "name": "python",
   "nbconvert_exporter": "python",
   "pygments_lexer": "ipython3",
   "version": "3.5.2"
  }
 },
 "nbformat": 4,
 "nbformat_minor": 2
}
