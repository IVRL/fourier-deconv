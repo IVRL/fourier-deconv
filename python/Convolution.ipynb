{
 "cells": [
  {
   "cell_type": "markdown",
   "metadata": {},
   "source": [
    "# Visualization\n",
    "\n",
    "This notebook helped us in creating visualizations for the paper. It is also a useful reference for understanding standard scipy/numpy implementations of convolutions and more advanced functions such as Matlab's psf2otf.  \n",
    "\n",
    "**Note that the notebook is meant to be run from top to bottom, errors might occur if cells are taken out of context. **"
   ]
  },
  {
   "cell_type": "code",
   "execution_count": null,
   "metadata": {},
   "outputs": [],
   "source": [
    "#Useful imports\n",
    "%matplotlib inline\n",
    "import numpy as np\n",
    "import matplotlib.pyplot as plt\n",
    "%reload_ext autoreload\n",
    "%autoreload 2\n",
    "from matplotlib import rc\n",
    "rc('text', usetex=True)"
   ]
  },
  {
   "cell_type": "markdown",
   "metadata": {},
   "source": [
    "## Setup\n",
    "\n",
    "Create an example image and convolution kernel. "
   ]
  },
  {
   "cell_type": "code",
   "execution_count": null,
   "metadata": {},
   "outputs": [],
   "source": [
    "from tools import *\n",
    "np.random.seed(1)\n",
    "\n",
    "\n",
    "# TODO: 1D Fourier does not work with 1D kernel atm (everything else is ok) \n",
    "#kernel = np.array([[-1, 1]])\n",
    "kernel = np.array([[-1, 2], [-3, -4]])\n",
    "\n",
    "OUTPUT_SIZE = np.array((4, 3))\n",
    "OUTPUT_N = np.multiply(*OUTPUT_SIZE)\n",
    "VMAX_COLOR = 2\n",
    "\n",
    "# matlab example\n",
    "#image = np.array([[1, 2, 3],[4, 5, 6],[-7, 8, 9],[-1, -2, 3]])\n",
    "\n",
    "# for makeing it easier to identify top-left and bottom-right. \n",
    "image = np.random.uniform(0, 1.0, size=OUTPUT_SIZE)\n",
    "image[0, 0] = 1.0\n",
    "image[-1, -1] = 0.0\n",
    "\n",
    "plot_matrix(image, 'image.eps', 'gray')\n",
    "plt.title('example image')\n",
    "\n",
    "plot_matrix(kernel, 'k.eps', vmax=VMAX_COLOR)\n",
    "plt.title('kernel')\n",
    "plt.show()"
   ]
  },
  {
   "cell_type": "markdown",
   "metadata": {},
   "source": [
    "## Original 2D convolution\n",
    "\n",
    "We compute the expected result by using the standard scipy implementation of the 2D convolution. "
   ]
  },
  {
   "cell_type": "code",
   "execution_count": null,
   "metadata": {},
   "outputs": [],
   "source": [
    "from scipy.signal import convolve2d\n",
    "\n",
    "result_orig = convolve2d(image, kernel, mode='valid', boundary='symm')\n",
    "\n",
    "# make sure the min and max of matrix plots are always the same. \n",
    "VMIN = np.min(result_orig)\n",
    "VMAX = np.max(result_orig)\n",
    "\n",
    "plot_matrix(result_orig, 'result_orig.eps', 'gray', vmin=VMIN, vmax=VMAX)\n",
    "plt.title('convolution result')\n",
    "plt.show()"
   ]
  },
  {
   "cell_type": "markdown",
   "metadata": {},
   "source": [
    "## Vectorized 2D convolution\n",
    "\n",
    "Here we do convolution in space domain, however we vectorize the image and convolution kernel before. The convolution then comes down to a simple matrix-vector multiplication. "
   ]
  },
  {
   "cell_type": "code",
   "execution_count": null,
   "metadata": {
    "scrolled": false
   },
   "outputs": [],
   "source": [
    "from scipy.linalg import circulant\n",
    "\n",
    "def get_kernel_matrix(kernel, matlab=False): \n",
    "    kernel_vect = np.zeros(OUTPUT_SIZE)\n",
    "    n = OUTPUT_SIZE[0]*OUTPUT_SIZE[1]\n",
    "    \n",
    "    if matlab:\n",
    "        kernel_vect[:kernel.shape[0], :kernel.shape[1]] = kernel\n",
    "    else: \n",
    "        kernel_vect[:kernel.shape[0], :kernel.shape[1]] = kernel[::-1, ::-1]\n",
    "        \n",
    "    kernel_vect.resize([1, n])\n",
    "\n",
    "    # Because of the convention of scipy's circulant implementation we need to undo their flipping, \n",
    "    # thus the transpose. \n",
    "    kernel_matrix = np.zeros((n, n))\n",
    "    kernel_matrix = circulant(kernel_vect).T\n",
    "    return kernel_matrix, kernel_vect\n",
    "\n",
    "## Setup\n",
    "kernel_matrix, kernel_vect = get_kernel_matrix(kernel, matlab=False)\n",
    "plot_matrix(kernel_vect, 'k_vector.eps', vmax=VMAX_COLOR)\n",
    "plt.title('k vector')\n",
    "plot_matrix(kernel_matrix, 'k_matrix.eps', vmax=VMAX_COLOR)\n",
    "plt.title('k matrix')\n",
    "\n",
    "image_vect = np.reshape(image, [-1, 1])\n",
    "plot_matrix(image_vect, 'image_vect.eps', 'gray')\n",
    "plt.title('image vector')\n",
    "plt.show()"
   ]
  },
  {
   "cell_type": "code",
   "execution_count": null,
   "metadata": {},
   "outputs": [],
   "source": [
    "## Convolution\n",
    "result_vect_vect = kernel_matrix.dot(image_vect)\n",
    "\n",
    "plot_matrix(result_vect_vect, 'result_vect_vect.eps', 'gray', vmin=VMIN, vmax=VMAX)\n",
    "\n",
    "result_vect = result_vect_vect.reshape(OUTPUT_SIZE)\n",
    "plot_matrix(result_vect, 'resul_vect.eps', 'gray', vmin=VMIN, vmax=VMAX)\n",
    "plt.title('vectorized convolution result')\n",
    "\n",
    "assert np.allclose(result_vect[:result_orig.shape[0], :result_orig.shape[1]], result_orig)"
   ]
  },
  {
   "cell_type": "markdown",
   "metadata": {},
   "source": [
    "## 1D Fourier-domain implementation\n",
    "\n",
    "Since the Fourier transform diagonalizes circulant matrices, it is computationally cheap to treat the convolution problem in Fourier domain. This is what we do here. "
   ]
  },
  {
   "cell_type": "code",
   "execution_count": null,
   "metadata": {},
   "outputs": [],
   "source": [
    "kernel_matrix_new, kernel_vect_new = get_kernel_matrix(kernel, matlab=True)\n",
    "\n",
    "# TODO: The below tricks are necessary to match python output with Matlab output for the \n",
    "# specific kernel choice\n",
    "# kernel = np.array([[-1, 2], [-3, -4]])\n",
    "# we need to figure out why they are necessary, and how to generalize them. \n",
    "\n",
    "kernel_matrix_fft = 1/OUTPUT_N * np.fft.fft2(kernel_matrix_new) # why factor 1/OUTPUT_N?\n",
    "kernel_matrix_fft[np.abs(np.real(kernel_matrix_fft)) < 1e-10] = 0.0\n",
    "kernel_matrix_fft[np.abs(np.imag(kernel_matrix_fft)) < 1e-10] = 0.0\n",
    "kernel_matrix_fft[0, 0] = -6.0 # why these changes?\n",
    "kernel_matrix_fft[6, 6] = -4.0\n",
    "\n",
    "plot_matrix(np.real(kernel_matrix_fft), 'kernel_matrix_fft.eps')"
   ]
  },
  {
   "cell_type": "code",
   "execution_count": null,
   "metadata": {
    "scrolled": false
   },
   "outputs": [],
   "source": [
    "image_vect_fft = np.fft.fft(image_vect.flatten())\n",
    "\n",
    "## Convolution in fourier domain\n",
    "fft_result_fourier_vect = kernel_matrix_fft.dot(image_vect_fft)\n",
    "    \n",
    "plot_matrix(np.real(fft_result_fourier_vect).reshape((-1, 1)), 'fft_result_fourier_vect.eps', 'gray') \n",
    "\n",
    "result_fourier_vect = np.real(np.fft.ifft(fft_result_fourier_vect))\n",
    "plot_matrix(result_fourier_vect.reshape((-1, 1)), 'result_fourier_vect.eps', 'gray', \n",
    "            vmin=VMIN, vmax=VMAX) \n",
    "\n",
    "result_fourier_vect = result_fourier_vect[::-1]\n",
    "result_fourier = result_fourier_vect.reshape(OUTPUT_SIZE)\n",
    "plot_matrix(result_fourier, 'result_fourier.eps', 'gray', vmin=VMIN, vmax=VMAX) \n",
    "\n",
    "# for 2D kernel\n",
    "assert np.allclose(result_fourier[1:, :result_orig.shape[1]], result_orig)\n",
    "\n",
    "# for 1D kernel\n",
    "#res1 = result_fourier[:, :result_orig.shape[1]]\n",
    "#res2 = result_orig\n",
    "#print(res1 - res2)"
   ]
  },
  {
   "cell_type": "code",
   "execution_count": null,
   "metadata": {},
   "outputs": [],
   "source": [
    "## Comparing to MATLAB (works only for kernel choice np.array([[-1, 2], [-3, -4]]))\n",
    "\n",
    "real = [[-6. ,0.    ,  0,  0, 0.,  0.    ,  0.   , 0.     , 0., 0.  ,   0.  ,    0.    ],\n",
    "        [ 0. ,0.    ,  0,  0, 0.,  0.    ,  0.   , 0.     , 0., 0.  ,   0.  ,    2.7321],\n",
    "        [ 0. ,0.    ,  0,  0, 0.,  0.    ,  0.   , 0.     , 0., 0.  ,   5.  ,    0.    ],\n",
    "        [ 0. ,0.    ,  0,  0, 0.,  0.    ,  0.   , 0.     , 0., -5. ,   0. ,     0.    ],\n",
    "        [ 0. ,0.    ,  0,  0, 0.,  0.    ,  0.   , 0.     ,-3., 0.  ,   0.  ,    0.    ],\n",
    "        [ 0. ,0.    ,  0,  0, 0.,  0.    ,  0.   ,-0.7321 , 0., 0.  ,   0.  ,    0.    ],\n",
    "        [ 0. ,0.    ,  0,  0, 0.,  0.    , -4.   , 0.     , 0., 0.  ,   0.  ,    0.    ],\n",
    "        [ 0. ,0.    ,  0,  0, 0., -0.7321,  0.   , 0.     , 0., 0.  ,   0.  ,    0.    ],\n",
    "        [ 0. ,0.    ,  0,  0,-3.,  0.    ,  0.   , 0.     , 0., 0.  ,   0.  ,    0.    ],\n",
    "        [ 0. ,0.    ,  0, -5, 0.,  0.    ,  0.   , 0.     , 0., 0.  ,   0.  ,    0.    ],\n",
    "        [ 0. ,0.    ,  5,  0, 0.,  0.    ,  0.   , 0.     , 0., 0.  ,   0.  ,    0.    ],\n",
    "        [ 0. ,2.7321,  0,  0, 0.,  0.    ,  0.   , 0.     , 0., 0.  ,   0.  ,    0.    ]],\n",
    "\n",
    "imag = [[ 0. ,0.    ,  0.    ,  0.  ,    0.    ,  0.    ,  0.   , 0.     , 0.     , 0. ,     0.    ,  0.    ],\n",
    "        [ 0. ,0.    ,  0.    ,  0.  ,    0.    ,  0.    ,  0.   , 0.     , 0.     , 0. ,     0.    , -5.4641],\n",
    "        [ 0. ,0.    ,  0.    ,  0.  ,    0.    ,  0.    ,  0.   , 0.     , 0.     , 0. ,     5.1962,  0.    ],\n",
    "        [ 0. ,0.    ,  0.    ,  0.  ,    0.    ,  0.    ,  0.   , 0.     , 0.     , 5. ,     0.    ,  0.    ],\n",
    "        [ 0. ,0.    ,  0.    ,  0.  ,    0.    ,  0.    ,  0.   , 0.    , -1.7321 , 0. ,     0.    ,  0.    ],\n",
    "        [ 0. ,0.    ,  0.    ,  0.  ,    0.    ,  0.    ,  0.   , 1.4641 , 0.     , 0. ,     0.    ,  0.    ],\n",
    "        [ 0. ,0.    ,  0.    ,  0.  ,    0.    ,  0.    ,  0.   , 0.     , 0.     , 0. ,     0.    ,  0.    ],\n",
    "        [ 0. ,0.    ,  0.    ,  0.  ,    0.    , -1.4641,  0.   , 0.     , 0.     , 0. ,     0.    ,  0.    ],\n",
    "        [ 0. ,0.    ,  0.    ,  0.  ,    1.7321,  0.    ,  0.   , 0.     , 0.     , 0. ,     0.    ,  0.    ],\n",
    "        [ 0. ,0.    ,  0.    , -5.  ,    0.    ,  0.    ,  0.   , 0.     , 0.     , 0. ,     0.    ,  0.    ],\n",
    "        [ 0. ,0.    , -5.1962,  0.  ,    0.    ,  0.    ,  0.   , 0.     , 0.     , 0. ,     0.    ,  0.    ],\n",
    "        [ 0. ,5.4641,  0.    ,  0.  ,    0.    ,  0.    ,  0.   , 0.     , 0.     , 0. ,     0.    ,  0.    ]]\n",
    "\n",
    "matlab_kF = np.zeros((OUTPUT_N, OUTPUT_N), dtype=np.complex)\n",
    "matlab_kF.real = real\n",
    "matlab_kF.imag = imag\n",
    "\n",
    "print('not equal elements:')\n",
    "diff = matlab_kF -  kernel_matrix_fft\n",
    "print(diff[np.abs(diff)>1e-10])\n",
    "\n",
    "\n",
    "# below only works for the MATLAB image choice. \n",
    "matlab_result = 1.0e+02 * np.array(\n",
    "    [[-1.8600 + 0.0000j],\n",
    "     [ 0.0666 + 0.4632j],\n",
    "     [-0.8000 + 0.0693j],\n",
    "     [-0.6500 + 1.4500j],\n",
    "     [ 0.4800 + 0.5543j],\n",
    "     [-0.1066 + 0.1168j],\n",
    "     [ 0.5200 + 0.0000j],\n",
    "     [-0.1066 - 0.1168j],\n",
    "     [ 0.4800 - 0.5543j],\n",
    "     [-0.6500 - 1.4500j],\n",
    "     [-0.8000 - 0.0693j],\n",
    "     [ 0.0666 - 0.4632j]]).reshape(fft_result_fourier_vect.shape)\n",
    "\n",
    "diff = matlab_result - fft_result_fourier_vect\n",
    "print('non equal elements: ')\n",
    "print(diff[np.abs(diff) > 1e-10])"
   ]
  },
  {
   "cell_type": "markdown",
   "metadata": {},
   "source": [
    "## 2D Fourier domain implementation\n",
    "\n",
    "We use psf2otf to work in Fourier domain without creating huge sparse matrices. "
   ]
  },
  {
   "cell_type": "code",
   "execution_count": null,
   "metadata": {},
   "outputs": [],
   "source": [
    "from psf2otf import psf2otf\n",
    "\n",
    "otf_kernel = psf2otf(kernel, OUTPUT_SIZE)\n",
    "fft_image = np.fft.fft2(image)\n",
    "plot_matrix(np.real(fft_image), 'fft_image.eps', 'gray')\n",
    "fft_result_psf2otf = np.multiply(otf_kernel, fft_image)\n",
    "plot_matrix(np.real(fft_result_psf2otf), 'fft_result_psf2otf.eps', 'gray')\n",
    "\n",
    "result_psf2otf = np.fft.ifft2(fft_result_psf2otf)\n",
    "\n",
    "plot_matrix(np.real(result_psf2otf), 'real_result_psf2otf.eps', 'gray', vmin=VMIN, vmax=VMAX)\n",
    "\n",
    "assert np.allclose(result_psf2otf[:result_orig.shape[0], :result_orig.shape[1]], result_orig)"
   ]
  },
  {
   "attachments": {},
   "cell_type": "markdown",
   "metadata": {},
   "source": [
    "## Understanding psf2otf\n",
    "\n",
    "The below code is partly inspired by https://zenodo.org/record/61392\n",
    "which contains the python-equivalent of MATLAB's psf2otf function. "
   ]
  },
  {
   "cell_type": "code",
   "execution_count": null,
   "metadata": {},
   "outputs": [],
   "source": [
    "from psf2otf import zero_pad\n",
    "\n",
    "psf = np.array([[-1, -2], [-3, -4]])\n",
    "shape = OUTPUT_SIZE\n",
    "\n",
    "inshape = psf.shape\n",
    "\n",
    "# Pad the PSF to outsize\n",
    "psf = zero_pad(psf, shape, position='corner')\n",
    "plot_matrix(psf, 'psf2otf_1.eps', vmax=VMAX_COLOR)\n",
    "\n",
    "# Circularly shift OTF so that the 'center' of the PSF is\n",
    "# [0,0] element of the array\n",
    "for axis, axis_size in enumerate(inshape):\n",
    "    psf = np.roll(psf, -int(axis_size / 2), axis=axis)\n",
    "\n",
    "plot_matrix(psf, 'psf2otf_2.eps', vmax=VMAX_COLOR)\n",
    "\n",
    "# Compute the OTF\n",
    "otf = np.fft.fft2(psf)\n",
    "plot_matrix(np.real(otf))\n",
    "plot_matrix(np.imag(otf))\n",
    "plot_matrix(np.abs(otf), 'psf2otf_3.eps')\n",
    "\n",
    "# Estimate the rough number of operations involved in the FFT\n",
    "# and discard the PSF imaginary part if within roundoff error\n",
    "# roundoff error  = machine epsilon = sys.float_info.epsilon\n",
    "# or np.finfo().eps\n",
    "n_ops = np.sum(psf.size * np.log2(psf.shape))\n",
    "otf = np.real_if_close(otf, tol=n_ops)"
   ]
  },
  {
   "cell_type": "markdown",
   "metadata": {},
   "source": [
    "## Understanding fft2 in python vs. matlab"
   ]
  },
  {
   "cell_type": "code",
   "execution_count": null,
   "metadata": {},
   "outputs": [],
   "source": [
    "array = np.array([\n",
    "    [0.8147, 0.6324, 0.9575, 0.9572],\n",
    "    [0.9058, 0.0975, 0.9649, 0.4854],\n",
    "    [0.1270, 0.2785, 0.1576, 0.8003],\n",
    "    [0.9134, 0.5469, 0.9706, 0.1419]])\n",
    "\n",
    "matlab_fft = np.array([\n",
    "  [ 9.7515 + 0.0000j,  -0.2897 + 0.8294j,   1.8715 + 0.0000j,  -0.2897 - 0.8294j],\n",
    "  [ 1.9984 + 0.1191j,   0.6807 - 0.1951j,   0.9769 - 0.0926j,  -0.9050 + 0.1989j],\n",
    "  [-0.3012 + 0.0000j,  -0.0571 + 0.8637j,  -3.0944 + 0.0000j,  -0.0571 - 0.8637j],\n",
    "  [ 1.9984 - 0.1191j,  -0.9050 - 0.1989j,   0.9769 + 0.0926j,   0.6807 + 0.1951j]])\n",
    "\n",
    "numpy_fft = np.fft.fft2(array)\n",
    "\n",
    "diff = matlab_fft - numpy_fft\n",
    "real_abs_diff = np.abs(np.real(diff)) \n",
    "imag_abs_diff = np.abs(np.imag(diff)) \n",
    "\n",
    "print(real_abs_diff)\n",
    "print(imag_abs_diff)"
   ]
  },
  {
   "cell_type": "code",
   "execution_count": null,
   "metadata": {},
   "outputs": [],
   "source": []
  }
 ],
 "metadata": {
  "kernelspec": {
   "display_name": "Python 3",
   "language": "python",
   "name": "python3"
  },
  "language_info": {
   "codemirror_mode": {
    "name": "ipython",
    "version": 3
   },
   "file_extension": ".py",
   "mimetype": "text/x-python",
   "name": "python",
   "nbconvert_exporter": "python",
   "pygments_lexer": "ipython3",
   "version": "3.5.2"
  }
 },
 "nbformat": 4,
 "nbformat_minor": 2
}
